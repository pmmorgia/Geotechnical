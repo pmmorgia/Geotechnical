{
 "cells": [
  {
   "cell_type": "markdown",
   "metadata": {},
   "source": [
    "# Terzaghi Vertical Stress"
   ]
  },
  {
   "cell_type": "code",
   "execution_count": 30,
   "metadata": {},
   "outputs": [],
   "source": [
    "import numpy as np\n",
    "import math\n",
    "\n",
    "# Vertical Stress due to point load\n",
    "def σv(point_load=0,radius=0, depth=1):\n",
    "    '''\n",
    "    Calculates the vertical stress of due to a point load at a \n",
    "    radius r and depth z \n",
    "    from the location of the point load\n",
    "    \n",
    "    Parameters\n",
    "    point_load: Force (in kN)\n",
    "    r         : radius\n",
    "    z         : depth\n",
    "    \n",
    "    Output\n",
    "    vertical_stress at r,z from due to point load \n",
    "    '''\n",
    "    Q = point_load # kN\n",
    "    r = radius  # meters\n",
    "    z = depth   # meters\n",
    "    vertical_stress = (3*Q/(2 * math.pi * z**2 ))*( 1/(1+(r/z)**2))**(5/2)\n",
    "    return vertical_stress\n",
    "\n",
    "class Point():\n",
    "    def __init__(self,x,y,z=0,Q=0):\n",
    "        self.x = x\n",
    "        self.y = y\n",
    "        self.z = z\n",
    "        self.Q = Q\n",
    "        self.sigma = 0\n",
    "        self.over_burden_pressure = 0\n",
    "        self.total_pressure = 0 \n",
    "    def __str__(self):\n",
    "        return f\"x:{self.x} y:{self.y} z:{self.z} Q:{self.Q} sigma:{self.sigma} overburden_p:{self.over_burden_pressure} total_pressure: {self.total_pressure}\"\n",
    "    def add_pressure(self,p):\n",
    "        self.sigma += p\n",
    "        \n",
    "def get_point_list():\n",
    "    '''\n",
    "    Generates multiple point load\n",
    "    '''\n",
    "    \n",
    "    # Top view extends of the break water\n",
    "    width = 37 # along y axis\n",
    "    length = 200 # along x axis\n",
    "\n",
    "    # p1, p2, p3 are the 3 points of the tetraheral breakwater which are in contact with the surface of the seafloor\n",
    "    p1 = Point(1.5,0)\n",
    "    p2 = Point(2.8,2.25)\n",
    "    p3 = Point(0.201,2.25)\n",
    "\n",
    "    # Generates several point load assuming multiple tetraheral breakwater\n",
    "    x_offset = 2.598\n",
    "    y_offset = 2.25\n",
    "\n",
    "    point_list = []\n",
    "\n",
    "    for y in np.arange(0,width, y_offset):\n",
    "        for x in np.arange(0,length,x_offset):\n",
    "            point_list.append(Point(p1.x + x, p1.y + y))\n",
    "            point_list.append(Point(p2.x + x, p2.y + y))\n",
    "            point_list.append(Point(p3.x + x, p3.y + y))\n",
    "    total_weight = 307*24*length # kN\n",
    "    point_load_Q  = (total_weight)/len(point_list)\n",
    "    \n",
    "    for p in point_list:\n",
    "        p.Q = point_load_Q\n",
    "    \n",
    "    return point_list\n",
    "\n",
    "def get_pz_list(xmin=-20,xmax=120,ymin=-20,ymax=57, interval=1):\n",
    "    xs = np.arange(xmin,xmax,interval)\n",
    "    ys = np.arange(ymin,ymax,interval)\n",
    "    pz_list=[]\n",
    "    for x in xs:\n",
    "        for y in ys:\n",
    "            pz_list.append(Point(x,y))\n",
    "    return pz_list\n",
    "\n",
    "def σv_mod(p_list,pn_list,depth):\n",
    "    '''\n",
    "    Calculates the vertical stress of a list of points pn_list\n",
    "    taking into account the vertical stress effects due to a list of point load p_list\n",
    "    \n",
    "    Paramaters\n",
    "    p_list : list of point load [Point(x,y,z,Q)]\n",
    "    pn_list: list of point with coordiates x y where vertical stress is to be calculated \n",
    "    depth  : depth of at which the vertical stress is to be evaluated\n",
    "    \n",
    "    Output:\n",
    "    \n",
    "    pd_list : updated Point with calculated σv and over burden pressure \n",
    "    \n",
    "    '''\n",
    "    \n",
    "    z= depth\n",
    "    for p in pn_list:\n",
    "        p.sigma=0\n",
    "    \n",
    "        for point in p_list:\n",
    "            r = math.sqrt((p.y-point.y)**2 + (p.x-point.x)**2)\n",
    "            p.z = z\n",
    "            p.sigma += σv(point_load=point.Q,radius=r, depth=z)\n",
    "            \n",
    "        p.over_burden_pressure = (27 * z) #27kN/m3\n",
    "        p.total_pressure = p.sigma + p.over_burden_pressure\n",
    "\n",
    "    return pn_list\n",
    "\n",
    "def σv_mod2(p_list,px,py,depth):\n",
    "    '''\n",
    "    Calculates the vertical stress of point of interest\n",
    "    taking into account the vertical stress effects due to a list of point load p_list\n",
    "    \n",
    "    Paramaters\n",
    "    p_list : list of point load [Point(x,y,z,Q)]\n",
    "    px     : x coordinate of point p\n",
    "    py     : y coordinate of point p\n",
    "    depth  : z coordiated of point p with\n",
    "    '''\n",
    "    \n",
    "    z= depth\n",
    "\n",
    "    sigma=0\n",
    "    \n",
    "    for point in p_list:\n",
    "        pty = float(point.y)\n",
    "        ptx = float(point.x)\n",
    "        r = np.sqrt((py-pty)**2 + (px-ptx)**2)\n",
    "        z = z\n",
    "        sigma += σv(point_load=point.Q,radius=r, depth=z)            \n",
    "    over_burden_pressure = (27 * z) #27kN/m3\n",
    "    hydrostatic_pressure = 9.8 * 11 # 9.8 kn/m3\n",
    "    total_pressure = sigma + over_burden_pressure + hydrostatic_pressure\n",
    "\n",
    "    return total_pressure\n",
    "        \n"
   ]
  },
  {
   "cell_type": "markdown",
   "metadata": {},
   "source": [
    "## Declare a point load at (x=0m,y=0m,z=0m) with a downward force of 24 kN\n",
    "\n",
    "The assumption here is the the point loads are distributed along the x, y plane at z = 0\n",
    "\n",
    "* x,y,z are all in meters\n",
    "* Q is positive and pointing downwards \n",
    "\n"
   ]
  },
  {
   "cell_type": "code",
   "execution_count": 31,
   "metadata": {},
   "outputs": [],
   "source": [
    "point_list = [Point(0,0,0,Q=24)]"
   ]
  },
  {
   "cell_type": "markdown",
   "metadata": {},
   "source": [
    "## Pick a point of interest where the vertical stress is to be calculated\n",
    "\n",
    "For this example at x = 1.5 m and y = 0m"
   ]
  },
  {
   "cell_type": "code",
   "execution_count": 32,
   "metadata": {},
   "outputs": [],
   "source": [
    "pz_list = [Point(1.5,0)]"
   ]
  },
  {
   "cell_type": "markdown",
   "metadata": {},
   "source": [
    "## Calculate the vertical stresses of the points of interest point pz_list"
   ]
  },
  {
   "cell_type": "code",
   "execution_count": 33,
   "metadata": {},
   "outputs": [],
   "source": [
    "answer = σv_mod(point_list,pz_list,1)"
   ]
  },
  {
   "cell_type": "code",
   "execution_count": 34,
   "metadata": {},
   "outputs": [
    {
     "data": {
      "text/plain": [
       "{'x': 1.5,\n",
       " 'y': 0,\n",
       " 'z': 1,\n",
       " 'Q': 0,\n",
       " 'sigma': 0.6017889730420682,\n",
       " 'over_burden_pressure': 27,\n",
       " 'total_pressure': 27.60178897304207}"
      ]
     },
     "execution_count": 34,
     "metadata": {},
     "output_type": "execute_result"
    }
   ],
   "source": [
    "answer[0].__dict__"
   ]
  },
  {
   "cell_type": "markdown",
   "metadata": {},
   "source": [
    "## Generate Multiple Point loads example"
   ]
  },
  {
   "cell_type": "code",
   "execution_count": 40,
   "metadata": {},
   "outputs": [],
   "source": [
    "point_list = get_point_list()"
   ]
  },
  {
   "cell_type": "code",
   "execution_count": 41,
   "metadata": {},
   "outputs": [],
   "source": [
    "# pz_list = get_pz_list(xmin=0,xmax=100,ymin=0,ymax=40, interval=1)\n",
    "# answer = σv_mod(point_list,pz_list,1)"
   ]
  },
  {
   "cell_type": "code",
   "execution_count": 42,
   "metadata": {},
   "outputs": [
    {
     "data": {
      "text/plain": [
       "375.2482811306341"
      ]
     },
     "execution_count": 42,
     "metadata": {},
     "output_type": "execute_result"
    }
   ],
   "source": [
    "point_list[0].Q"
   ]
  },
  {
   "cell_type": "code",
   "execution_count": 43,
   "metadata": {},
   "outputs": [
    {
     "name": "stdout",
     "output_type": "stream",
     "text": [
      "3927\n"
     ]
    }
   ],
   "source": [
    "print(len(point_list))"
   ]
  },
  {
   "cell_type": "code",
   "execution_count": 294,
   "metadata": {},
   "outputs": [],
   "source": [
    "x=[]\n",
    "y=[]\n",
    "z=[]\n",
    "\n",
    "for i in answer:\n",
    "    x.append(i.x)\n",
    "    y.append(i.y)\n",
    "    z.append(i.total_pressure)"
   ]
  },
  {
   "cell_type": "markdown",
   "metadata": {},
   "source": [
    "# Generate a stress distribution in section view"
   ]
  },
  {
   "cell_type": "code",
   "execution_count": 49,
   "metadata": {},
   "outputs": [
    {
     "data": {
      "image/png": "[encoded data removed]",
      "text/plain": [
       "<Figure size 432x288 with 2 Axes>"
      ]
     },
     "metadata": {
      "needs_background": "light"
     },
     "output_type": "display_data"
    }
   ],
   "source": [
    "%matplotlib inline\n",
    "import matplotlib.pyplot as plt\n",
    "import numpy as np\n",
    "from numpy import ma\n",
    "from matplotlib import ticker, cm\n",
    "\n",
    "\n",
    "N = 200\n",
    "x = np.linspace(-20,220, 400)\n",
    "z = np.linspace(1,10, N)\n",
    "X, Z = np.meshgrid(x, z)\n",
    "\n",
    "\n",
    "# setting y = 18\n",
    "P = σv_mod2(point_list,X,18,Z)\n",
    "\n",
    "\n",
    "fig, ax = plt.subplots()\n",
    "CS = ax.contourf(X, -Z, P)\n",
    "cbar=fig.colorbar(CS)\n",
    "ax.set_title(f'Section View: σv (kPa)')\n",
    "plt.ylabel('Depth / Z axis (meter)')\n",
    "plt.xlabel('X axis (meter)')\n",
    "#plt.savefig(f'plot.png')\n",
    "plt.show()\n"
   ]
  },
  {
   "cell_type": "markdown",
   "metadata": {},
   "source": [
    "# Generate a stress distribution in Plan View (at dpeth"
   ]
  },
  {
   "cell_type": "code",
   "execution_count": 53,
   "metadata": {},
   "outputs": [
    {
     "data": {
      "image/png": "[encoded data removed]",
      "text/plain": [
       "<Figure size 432x288 with 2 Axes>"
      ]
     },
     "metadata": {
      "needs_background": "light"
     },
     "output_type": "display_data"
    }
   ],
   "source": [
    "%matplotlib inline\n",
    "import matplotlib.pyplot as plt\n",
    "import numpy as np\n",
    "from numpy import ma\n",
    "from matplotlib import ticker, cm\n",
    "\n",
    "\n",
    "\n",
    "N = 200\n",
    "x = np.linspace(-20,220, 400)\n",
    "y = np.linspace(-10,50, 400)\n",
    "X, Y = np.meshgrid(x, y)\n",
    "\n",
    "# at depth = 1m\n",
    "P = σv_mod2(point_list,X,Y,1)\n",
    "\n",
    "\n",
    "fig, ax = plt.subplots()\n",
    "CS = ax.contourf(X, Y, P)\n",
    "cbar=fig.colorbar(CS)\n",
    "ax.set_title(f'Plan View: σv (kPa)')\n",
    "plt.ylabel('Y axis (meter)')\n",
    "plt.xlabel('X axis (meter)')\n",
    "#plt.savefig(f'plot.png')\n",
    "plt.show()\n"
   ]
  },
  {
   "cell_type": "code",
   "execution_count": null,
   "metadata": {},
   "outputs": [],
   "source": []
  }
 ],
 "metadata": {
  "kernelspec": {
   "display_name": "Python 3 (ipykernel)",
   "language": "python",
   "name": "python3"
  },
  "language_info": {
   "codemirror_mode": {
    "name": "ipython",
    "version": 3
   },
   "file_extension": ".py",
   "mimetype": "text/x-python",
   "name": "python",
   "nbconvert_exporter": "python",
   "pygments_lexer": "ipython3",
   "version": "3.8.10"
  }
 },
 "nbformat": 4,
 "nbformat_minor": 2
}
